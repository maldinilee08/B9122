{
 "cells": [
  {
   "cell_type": "markdown",
   "metadata": {},
   "source": [
    "Question 1"
   ]
  },
  {
   "cell_type": "code",
   "execution_count": 13,
   "metadata": {},
   "outputs": [
    {
     "data": {
      "text/html": [
       "<div>\n",
       "<style scoped>\n",
       "    .dataframe tbody tr th:only-of-type {\n",
       "        vertical-align: middle;\n",
       "    }\n",
       "\n",
       "    .dataframe tbody tr th {\n",
       "        vertical-align: top;\n",
       "    }\n",
       "\n",
       "    .dataframe thead th {\n",
       "        text-align: right;\n",
       "    }\n",
       "</style>\n",
       "<table border=\"1\" class=\"dataframe\">\n",
       "  <thead>\n",
       "    <tr style=\"text-align: right;\">\n",
       "      <th></th>\n",
       "      <th>accept</th>\n",
       "      <th>tier</th>\n",
       "      <th>amount</th>\n",
       "      <th>apr</th>\n",
       "      <th>prime</th>\n",
       "    </tr>\n",
       "  </thead>\n",
       "  <tbody>\n",
       "    <tr>\n",
       "      <th>0</th>\n",
       "      <td>0</td>\n",
       "      <td>2</td>\n",
       "      <td>21000.00</td>\n",
       "      <td>6.19</td>\n",
       "      <td>1.8388</td>\n",
       "    </tr>\n",
       "    <tr>\n",
       "      <th>1</th>\n",
       "      <td>1</td>\n",
       "      <td>4</td>\n",
       "      <td>18888.75</td>\n",
       "      <td>7.99</td>\n",
       "      <td>1.8388</td>\n",
       "    </tr>\n",
       "    <tr>\n",
       "      <th>2</th>\n",
       "      <td>0</td>\n",
       "      <td>1</td>\n",
       "      <td>35000.00</td>\n",
       "      <td>5.85</td>\n",
       "      <td>1.8388</td>\n",
       "    </tr>\n",
       "    <tr>\n",
       "      <th>3</th>\n",
       "      <td>1</td>\n",
       "      <td>2</td>\n",
       "      <td>16510.00</td>\n",
       "      <td>6.19</td>\n",
       "      <td>1.8388</td>\n",
       "    </tr>\n",
       "    <tr>\n",
       "      <th>4</th>\n",
       "      <td>0</td>\n",
       "      <td>1</td>\n",
       "      <td>27000.00</td>\n",
       "      <td>5.85</td>\n",
       "      <td>1.8388</td>\n",
       "    </tr>\n",
       "  </tbody>\n",
       "</table>\n",
       "</div>"
      ],
      "text/plain": [
       "   accept  tier    amount   apr   prime\n",
       "0       0     2  21000.00  6.19  1.8388\n",
       "1       1     4  18888.75  7.99  1.8388\n",
       "2       0     1  35000.00  5.85  1.8388\n",
       "3       1     2  16510.00  6.19  1.8388\n",
       "4       0     1  27000.00  5.85  1.8388"
      ]
     },
     "execution_count": 13,
     "metadata": {},
     "output_type": "execute_result"
    }
   ],
   "source": [
    "%matplotlib inline\n",
    "import numpy as np\n",
    "import pandas as pd\n",
    "\n",
    "from sklearn import linear_model as lm\n",
    "import matplotlib\n",
    "import matplotlib.pyplot as plt\n",
    "\n",
    "# Import the car data\n",
    "dat = pd.read_csv('e_car_data.csv')\n",
    "dat.columns = list(dat)\n",
    "dat = dat[['accept', 'tier', 'amount', 'apr', 'prime']]\n",
    "dat.head()"
   ]
  },
  {
   "cell_type": "code",
   "execution_count": 14,
   "metadata": {},
   "outputs": [
    {
     "name": "stdout",
     "output_type": "stream",
     "text": [
      "Fraction of loans accepted: 0.4506\n",
      "\n",
      "intercept = 0.0430 \n",
      "coef_tier = 0.0399 \n",
      "coef_amount = -0.0001 \n",
      "coef_apr = 0.0940 \n",
      "coef_prime = 0.0502\n",
      "\n",
      "RMSE of logistic prediction of probability: 0.4716\n"
     ]
    }
   ],
   "source": [
    "# Construct the logistic regression model\n",
    "x = dat.iloc[:,1:5].values\n",
    "y = dat.iloc[:,0].values\n",
    "print(\"Fraction of loans accepted:\", '%.4f'% np.mean(y))\n",
    "\n",
    "logistic=lm.LogisticRegression() # Create an object of class LogisticRegression\n",
    "model = logistic.fit(x,y) # Fit the logistic model\n",
    "print(\"\\nintercept =\", '%.4f'% model.intercept_, # Print the estimated parameters\n",
    "      \"\\ncoef_tier =\", '%.4f'% model.coef_[0][0],\n",
    "      \"\\ncoef_amount =\", '%.4f'% model.coef_[0][1],\n",
    "      \"\\ncoef_apr =\", '%.4f'% model.coef_[0][2],\n",
    "      \"\\ncoef_prime =\", '%.4f'% model.coef_[0][3]) \n",
    "\n",
    "\n",
    "ypred = model.predict_proba(x) # Get the fitted values\n",
    "print(\"\\nRMSE of logistic prediction of probability:\", '%.4f'% np.std(y-ypred[:,1])) # Print the RMSE between actual and predicted acceptance"
   ]
  },
  {
   "cell_type": "code",
   "execution_count": 15,
   "metadata": {},
   "outputs": [
    {
     "name": "stdout",
     "output_type": "stream",
     "text": [
      "[0.1611002  0.29798089 0.62209608 0.51737452 0.        ]\n",
      "[1018. 9212. 9513. 1036.    0.]\n"
     ]
    }
   ],
   "source": [
    "# Calculate the fraction of acceptance for each bin\n",
    "accept = np.concatenate([dat.iloc[:,0:1].values, ypred[:,1:2]], axis=1)\n",
    "c = np.zeros(5)\n",
    "d = np.zeros(5)\n",
    "sep = np.linspace(0,1,6)\n",
    "for n in range(5):\n",
    "    temp = np.zeros((0,2))\n",
    "    for i in range(len(accept)): \n",
    "        if ((accept[:,1][i]>=sep[n]) and (accept[:,1][i]<sep[n+1])):\n",
    "            temp = np.concatenate([temp, accept[i:(i+1),:]], axis=0)\n",
    "    d[n] = len(temp)\n",
    "    if (len(temp)==0): # If the bin is empty\n",
    "        c[n] = 0 \n",
    "    else:\n",
    "        c[n] = np.sum(temp[:,0]) / len(temp)\n",
    "print(c,)\n",
    "print(d)"
   ]
  },
  {
   "cell_type": "code",
   "execution_count": 11,
   "metadata": {},
   "outputs": [
    {
     "data": {
      "image/png": "[encoded data removed]",
      "text/plain": [
       "<Figure size 432x288 with 1 Axes>"
      ]
     },
     "metadata": {},
     "output_type": "display_data"
    }
   ],
   "source": [
    "# Plotting the fraction of acceptance\n",
    "v = np.linspace(0, 10, 1000)\n",
    "plt.style.use('seaborn-whitegrid')\n",
    "plt.bar(sep[:5], c, width=0.2, color='blue', align='edge', edgecolor='black', linewidth=0.6)\n",
    "plt.plot([0, 0], [1, 1], 'k-', linewidth=1)\n",
    "plt.xlim(0, 1)\n",
    "plt.ylim(0, 1)\n",
    "plt.xlabel('Probability of acceptance from model')\n",
    "plt.ylabel('Fraction of acceptance from data')\n",
    "plt.plot(v, v+0, linestyle='solid', color='black', linewidth=0.6)\n",
    "plt.show()"
   ]
  },
  {
   "cell_type": "code",
   "execution_count": 16,
   "metadata": {},
   "outputs": [
    {
     "name": "stdout",
     "output_type": "stream",
     "text": [
      "The acceptance probability of customer 1: 0.4370\n",
      "The acceptance probability of customer 2: 0.2914\n"
     ]
    }
   ],
   "source": [
    "customer_1 = np.array([[2, 18000, 5, 2.13]])\n",
    "customer_2 = np.array([[2, 30000, 5, 2.13]]) \n",
    "print(\"The acceptance probability of customer 1:\", '%.4f'% model.predict_proba(customer_1)[:,1])\n",
    "print(\"The acceptance probability of customer 2:\", '%.4f'% model.predict_proba(customer_2)[:,1])"
   ]
  },
  {
   "cell_type": "markdown",
   "metadata": {},
   "source": [
    "Question 2"
   ]
  },
  {
   "cell_type": "code",
   "execution_count": 17,
   "metadata": {},
   "outputs": [
    {
     "name": "stdout",
     "output_type": "stream",
     "text": [
      "Number of URLs in stack: 0\n",
      "Number of URLs in stack: 139\n",
      "Number of URLs in stack: 138\n",
      "Number of URLs in stack: 212\n",
      "Number of URLs in stack: 211\n",
      "Number of URLs in stack: 223\n",
      "Number of URLs in stack: 222\n",
      "Number of URLs in stack: 246\n",
      "Number of URLs in stack: 251\n",
      "Number of URLs in stack: 250\n",
      "Number of URLs in stack: 259\n",
      "Number of URLs in stack: 296\n",
      "Number of URLs in stack: 295\n",
      "Number of URLs in stack: 367\n",
      "Number of URLs in stack: 380\n",
      "Number of URLs in stack: 379\n",
      "Number of URLs in stack: 479\n",
      "Number of URLs in stack: 478\n",
      "Number of URLs in stack: 595\n",
      "Number of URLs in stack: 595\n",
      "Number of URLs in stack: 596\n",
      "Number of URLs in stack: 595\n",
      "Number of URLs in stack: 597\n",
      "Number of URLs in stack: 598\n",
      "Number of URLs in stack: 597\n",
      "Number of URLs in stack: 596\n",
      "Number of URLs in stack: 596\n",
      "Number of URLs in stack: 595\n",
      "Number of URLs in stack: 598\n",
      "Number of URLs in stack: 603\n",
      "Number of URLs in stack: 605\n",
      "Number of URLs in stack: 609\n",
      "Number of URLs in stack: 609\n",
      "Number of URLs in stack: 611\n",
      "Number of URLs in stack: 612\n",
      "Number of URLs in stack: 613\n",
      "Number of URLs in stack: 616\n",
      "Number of URLs in stack: 617\n",
      "Number of URLs in stack: 618\n",
      "Number of URLs in stack: 618\n",
      "Number of URLs in stack: 619\n",
      "Number of URLs in stack: 619\n",
      "Number of URLs in stack: 620\n",
      "Number of URLs in stack: 620\n",
      "Number of URLs in stack: 622\n",
      "Number of URLs in stack: 623\n",
      "Number of URLs in stack: 623\n",
      "Number of URLs in stack: 624\n",
      "Number of URLs in stack: 625\n",
      "Number of URLs in stack: 625\n",
      "Number of URLs in urls = 627, and seen = 50, and scanned (opened) = 50\n",
      "Link: http://www8.gsb.columbia.edu/faculty-research/faculty/publications?year=2016 ; Score: 61\n",
      "Link: http://www8.gsb.columbia.edu/faculty-research/faculty/publications?year=2015 ; Score: 55\n",
      "Link: http://www8.gsb.columbia.edu/faculty-research/faculty/publications?year=2017 ; Score: 49\n",
      "Link: http://www8.gsb.columbia.edu/faculty-research/faculty/recruitment ; Score: 47\n",
      "Link: http://www8.gsb.columbia.edu/faculty-research ; Score: 42\n",
      "Link: http://www8.gsb.columbia.edu/faculty-research/faculty ; Score: 39\n",
      "Link: http://www8.gsb.columbia.edu/faculty-research/faculty/publications ; Score: 37\n",
      "Link: http://www8.gsb.columbia.edu/faculty-research/divisions ; Score: 34\n",
      "Link: http://www8.gsb.columbia.edu/faculty-research/faculty-directory ; Score: 32\n",
      "Link: http://www8.gsb.columbia.edu/faculty-research/faculty/faculty-profiles ; Score: 31\n",
      "Link: http://www8.gsb.columbia.edu/faculty-research/file/478 ; Score: 30\n",
      "Link: http://www8.gsb.columbia.edu ; Score: 27\n",
      "Link: http://www8.gsb.columbia.edu#mMenuSearch ; Score: 27\n",
      "Link: http://www8.gsb.columbia.edu/about-us/executives-in-residence ; Score: 25\n",
      "Link: http://www8.gsb.columbia.edu/articles/ideas-work/simple-twist-common-strategy-nets-negotiators-better-deals ; Score: 20\n",
      "Link: http://www8.gsb.columbia.edu/articles/ideas-work/unexpected-benefits-being-unexpected ; Score: 20\n",
      "Link: http://www8.gsb.columbia.edu/researcharchive/articles/5818 ; Score: 12\n",
      "Link: http://www8.gsb.columbia.edu/researcharchive/articles/23365 ; Score: 12\n",
      "Link: http://www8.gsb.columbia.edu/researcharchive/articles/25465 ; Score: 11\n",
      "Link: http://www8.gsb.columbia.edu/researcharchive/articles/6367 ; Score: 10\n",
      "Link: http://www8.gsb.columbia.edu/researcharchive/articles/25758 ; Score: 10\n",
      "Link: http://www8.gsb.columbia.edu/researcharchive/articles/4610 ; Score: 10\n",
      "Link: http://www8.gsb.columbia.edu/researcharchive/articles/19238 ; Score: 10\n",
      "Link: http://www8.gsb.columbia.edu/researcharchive/articles/5950 ; Score: 10\n",
      "Link: http://www8.gsb.columbia.edu/researcharchive/articles/25718 ; Score: 10\n"
     ]
    }
   ],
   "source": [
    "from bs4 import BeautifulSoup\n",
    "import re, urllib.parse, urllib.request\n",
    "import html5lib\n",
    "\n",
    "# Initializing\n",
    "url = \"http://www8.gsb.columbia.edu\"\n",
    "maxNumUrl = 50\n",
    "keywords = ['finance', 'engineering', 'business', 'research']\n",
    "\n",
    "urls = dict([(url,1)])\n",
    "seen = dict([])\n",
    "opened = []\n",
    "\n",
    "while len(urls)>0 and len(opened)<maxNumUrl:\n",
    "    try:\n",
    "        urls_temp = sorted(urls.items(), key=lambda x:x[1], reverse=True)\n",
    "        curr_url = urls_temp.pop(0)[0] # Pop the highest scoring url from urls\n",
    "        urls.pop(curr_url) # Remove that url with its score in urls\n",
    "        print(\"Number of URLs in stack: %d\" % len(urls))\n",
    "        webpage = urllib.request.urlopen(curr_url)\n",
    "        opened.append(curr_url) # Assign the curr_url to opnned \n",
    "    except Exception as ex: # If urlopen() fails\n",
    "        print(ex)\n",
    "        continue # Skip the code below\n",
    "        \n",
    "    soup = BeautifulSoup(webpage, \"html5lib\")\n",
    "    htmltext = soup.body.get_text() # Get the body text of the webpage\n",
    "    score = 0 # Initialize the score of the webpage\n",
    "    for n in range(len(keywords)): # Calculate the total occurances of the keywords\n",
    "        score += len(re.findall(keywords[n], str(htmltext).lower()))\n",
    "    seen[curr_url] = score # Add this curr_url with its score to seen\n",
    "    \n",
    "    if (score>0):\n",
    "        for tag in soup.find_all('a', href = True):\n",
    "            childUrl = tag['href'] # Extract the link in curr_url\n",
    "            childUrl = urllib.parse.urljoin(url, childUrl) # Join the url with childUrl\n",
    "            if url in childUrl and childUrl not in list(seen.keys()):\n",
    "                urls[childUrl] = score # If childUrl is not in seen, then add it along with its score to urls\n",
    "    \n",
    "print(\"Number of URLs in urls = %d, and seen = %d, and scanned (opened) = %d\" % \n",
    "      (len(urls), len(seen), len(opened)))\n",
    "\n",
    "s = sorted(seen.items(), key = lambda x:x[1], reverse = True)\n",
    "N = 25 # Set Top_n\n",
    "for n in range(N):\n",
    "    print(\"Link: \" + str(s[n][0]) + \" ; \" + \"Score: \" + str(s[n][1]))"
   ]
  },
  {
   "cell_type": "markdown",
   "metadata": {},
   "source": [
    "Questions regarding Question2:\n",
    "1. Call which method to parse the body text?\n",
    "2. For some of the urls, the calculated score is different from manually added score. Why?"
   ]
  }
 ],
 "metadata": {
  "kernelspec": {
   "display_name": "Python 3",
   "language": "python",
   "name": "python3"
  },
  "language_info": {
   "codemirror_mode": {
    "name": "ipython",
    "version": 3
   },
   "file_extension": ".py",
   "mimetype": "text/x-python",
   "name": "python",
   "nbconvert_exporter": "python",
   "pygments_lexer": "ipython3",
   "version": "3.6.5"
  }
 },
 "nbformat": 4,
 "nbformat_minor": 2
}
