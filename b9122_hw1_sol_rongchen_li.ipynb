{
 "cells": [
  {
   "cell_type": "markdown",
   "metadata": {},
   "source": [
    "Question 1"
   ]
  },
  {
   "cell_type": "code",
   "execution_count": 71,
   "metadata": {},
   "outputs": [
    {
     "name": "stdout",
     "output_type": "stream",
     "text": [
      "ieiou\n"
     ]
    }
   ],
   "source": [
    "word = 'aeiou'\n",
    "w = []\n",
    "for n in range(len(word)):\n",
    "    w.append(word[n])\n",
    "for n in range(len(word)):\n",
    "    if w[n]=='a':\n",
    "        w[n]='i'\n",
    "    else:\n",
    "        w[n]=w[n]\n",
    "\n",
    "word2 = ''\n",
    "for n in range(len(word)):\n",
    "    word2 += w[n]\n",
    "word = word2\n",
    "print(word)"
   ]
  },
  {
   "cell_type": "markdown",
   "metadata": {},
   "source": [
    "Question 2"
   ]
  },
  {
   "cell_type": "code",
   "execution_count": 1,
   "metadata": {},
   "outputs": [
    {
     "name": "stdout",
     "output_type": "stream",
     "text": [
      "Please enter an integer: 22.3\n",
      "Not an integer or not greater than one! Try again!\n",
      "Please enter an integer: -10\n",
      "Not an integer or not greater than one! Try again!\n",
      "Please enter an integer: 45\n",
      "1*1=1\n",
      "1*2=2\n",
      "1*3=3\n",
      "2*1=2\n",
      "2*2=4\n",
      "2*3=6\n",
      "3*1=3\n",
      "3*2=6\n",
      "3*3=9\n"
     ]
    }
   ],
   "source": [
    "import numpy as np\n",
    "\n",
    "# I think I might not grasp the intention of this question correctly, so I post two possible solutions in this cell and the next\n",
    "\n",
    "while (1):\n",
    "    try:\n",
    "        n = int(input(\"Please enter an integer: \"))\n",
    "        if n <= 1:\n",
    "            raise ValueError(\"Not an integer or not greater than one! Try again!\")\n",
    "    except:\n",
    "        print(\"Not an integer or not greater than one! Try again!\")\n",
    "    else:\n",
    "        break\n",
    "\n",
    "while n > 1:\n",
    "    n -= 1\n",
    "    \n",
    "v0 = np.array([n, n+1, n+2])\n",
    "v1 = np.repeat(v0,3)\n",
    "v2 = np.tile(v0,3)\n",
    "v3 = v1 * v2\n",
    "v1.tolist()\n",
    "v2.tolist()\n",
    "v3.tolist()\n",
    "\n",
    "for n in range(len(v1)):\n",
    "    a = v1[n]\n",
    "    b = v2[n]\n",
    "    c = v3[n]\n",
    "    l = [str(a), '*', str(b), '=', str(c)]\n",
    "    print(''.join(l))"
   ]
  },
  {
   "cell_type": "markdown",
   "metadata": {},
   "source": [
    "Question 2'"
   ]
  },
  {
   "cell_type": "code",
   "execution_count": 7,
   "metadata": {},
   "outputs": [
    {
     "name": "stdout",
     "output_type": "stream",
     "text": [
      "Please enter an integer: 3\n",
      "1*1=1\n",
      "1*2=2\n",
      "1*3=3\n",
      "2*1=2\n",
      "2*2=4\n",
      "2*3=6\n",
      "3*1=3\n",
      "3*2=6\n",
      "3*3=9\n"
     ]
    }
   ],
   "source": [
    "import numpy as np\n",
    "\n",
    "while (1):\n",
    "    try:\n",
    "        n = int(input(\"Please enter an integer: \"))\n",
    "        if n <= 1:\n",
    "            raise ValueError(\"Not an integer or not greater than one! Try again!\")\n",
    "    except:\n",
    "        print(\"Not an integer or not greater than one! Try again!\")\n",
    "    else:\n",
    "        break\n",
    "\n",
    "v0 = np.arange(1,n+1)\n",
    "v1 = np.repeat(v0,3)\n",
    "v2 = np.tile(v0,3)\n",
    "v3 = v1 * v2\n",
    "v1.tolist()\n",
    "v2.tolist()\n",
    "v3.tolist()\n",
    "\n",
    "for n in range(len(v1)):\n",
    "    a = v1[n]\n",
    "    b = v2[n]\n",
    "    c = v3[n]\n",
    "    l = [str(a), '*', str(b), '=', str(c)]\n",
    "    print(''.join(l))"
   ]
  },
  {
   "cell_type": "markdown",
   "metadata": {},
   "source": [
    "Question 3"
   ]
  },
  {
   "cell_type": "code",
   "execution_count": 2,
   "metadata": {},
   "outputs": [
    {
     "name": "stdout",
     "output_type": "stream",
     "text": [
      "Tpye your sentence here (with space): This is a long sentence\n",
      "This is a long sentence\n",
      "[(1, 'a'), (2, 'is'), (4, 'This'), (4, 'long'), (8, 'sentence')]\n"
     ]
    }
   ],
   "source": [
    "sentence = input(\"Tpye your sentence here (with space): \")\n",
    "print(sentence)\n",
    "word = sentence.split(sep = \" \")\n",
    "length = []\n",
    "for n in range(len(word)):\n",
    "    length.append(len(word[n]))\n",
    "list = []\n",
    "for n in range(len(word)):\n",
    "    list.append((length[n],word[n]))\n",
    "T = tuple(list)\n",
    "print(sorted(T, key=lambda T:T[0]))"
   ]
  },
  {
   "cell_type": "markdown",
   "metadata": {},
   "source": [
    "Question 4"
   ]
  },
  {
   "cell_type": "code",
   "execution_count": 3,
   "metadata": {},
   "outputs": [
    {
     "name": "stdout",
     "output_type": "stream",
     "text": [
      "6 business\n",
      "5 the\n",
      "5 of\n",
      "4 is\n",
      "4 in\n"
     ]
    }
   ],
   "source": [
    "fh = open('question4.txt')\n",
    "txt = fh.read()\n",
    "fh.close()\n",
    "word = txt.lower().split()\n",
    "count = []\n",
    "for n in range(len(word)):\n",
    "    count.append((word[n],word.count(word[n])))\n",
    "D = dict(count) # Eliminate the repeated occured words in the list (now a dictionary)\n",
    "D = sorted(D.items(), key = lambda x:x[1], reverse = True)\n",
    "N = 5 # Set Top_n\n",
    "for n in range(N):\n",
    "    print(str(D[n][1])+\" \"+str(D[n][0]))"
   ]
  },
  {
   "cell_type": "markdown",
   "metadata": {},
   "source": [
    "Question 5"
   ]
  },
  {
   "cell_type": "code",
   "execution_count": 13,
   "metadata": {},
   "outputs": [
    {
     "name": "stdout",
     "output_type": "stream",
     "text": [
      "['2014-08-02', '2018-09-23', '2016-02-29']\n",
      "['10000', '10000-2234']\n",
      "['maldinilee272@gmail.com', 'maldinilee@163.com', 'sports@columbia.ca.com', 'lirch.14@tsinghua.com', 'abc@innov-cap.com']\n"
     ]
    }
   ],
   "source": [
    "import re\n",
    "\n",
    "list = ['2014-08-02', '2018-09-23', '2018-14-02', '2017-12-34', '2018-11-31', \n",
    "        '2017-02-29', 'a014-q8-02', '32-09-07', '3331-888-97', '2016-02-29',\n",
    "        '10000', '10000-2234', '100000', '34111-222234', '234', \n",
    "        'maldinilee272@gmail.com', 'maldinilee@163.com', 'rli20@gsb.columbia.edu', \n",
    "        'sports@columbia.ca.com', \"lirch.14@tsinghua.com\", '23ddsssde.com', 'abc@innov-cap.com'] # The testing list\n",
    "\n",
    "date = []\n",
    "postcode = [] \n",
    "email = [] \n",
    "for elem in list:\n",
    "    if (re.search('^\\d\\d\\d\\d-(0[1-9]|1[0-2])-(0[1-9]|[12][0-9]|3[01])$', elem)):\n",
    "        if (re.search('^\\d\\d\\d\\d-(0[469]|11)-31$', elem)) or (re.search('^\\d\\d\\d\\d-02-(29|3[01])$', elem)): \n",
    "            if (re.search('^\\d\\d\\d\\d-02-29$', elem)):\n",
    "                temp = elem\n",
    "                if ((int(elem[0:4])%4)==0):\n",
    "                    date.append(elem)\n",
    "        else:\n",
    "            date.append(elem)\n",
    "for elem in list:\n",
    "    if (re.search('^\\d\\d\\d\\d\\d$', elem)) or (re.search('^\\d\\d\\d\\d\\d-\\d\\d\\d\\d$', elem)):\n",
    "        postcode.append(elem)\n",
    "for elem in list:\n",
    "    if (re.search('^\\w+?(\\.|-|_)?\\w+?@\\w+?(\\.|-|_)?\\w+?\\.com$', elem)): # some local/domain contains \".\" or \"-\" or \"_\", but not on the boundary\n",
    "        email.append(elem)\n",
    "        \n",
    "print(date)\n",
    "print(postcode)\n",
    "print(email)"
   ]
  },
  {
   "cell_type": "markdown",
   "metadata": {},
   "source": [
    "Question 5'"
   ]
  },
  {
   "cell_type": "code",
   "execution_count": 12,
   "metadata": {},
   "outputs": [
    {
     "name": "stdout",
     "output_type": "stream",
     "text": [
      "['2014-08-02', '2014-07-03']\n"
     ]
    }
   ],
   "source": [
    "# However, in a more complex setting, if we want to capture text with specific format within a paragraph rather than a list of strings, \n",
    "# with certain formats reoccuring in that paragraph, we might consider the following codes.\n",
    "# The following codes give a motivating example using specific dates format.\n",
    "\n",
    "import re\n",
    "\n",
    "str = '2014-08-02 I find my card lost on 2014-07-03, still 2019-02-31' # In real world problem, we need to read files first\n",
    "\n",
    "date = []\n",
    "\n",
    "while (re.search('\\d\\d\\d\\d-(0[1-9]|1[0-2])-(0[1-9]|[12][0-9]|3[01])', str)!=None):\n",
    "    m = re.search('\\d\\d\\d\\d-(0[1-9]|1[0-2])-(0[1-9]|[12][0-9]|3[01])', str)\n",
    "    temp = m.group(0)\n",
    "    date.append(temp)\n",
    "    str = str[0][:m.start()] + str[m.end():]\n",
    "\n",
    "dates = [] # The date we get above has not rule out illegal dates expressions such as '2019-02-31'\n",
    "\n",
    "for elem in date:\n",
    "    if (re.search('^\\d\\d\\d\\d-(0[1-9]|1[0-2])-(0[1-9]|[12][0-9]|3[01])$', elem)):\n",
    "        if (re.search('^\\d\\d\\d\\d-(0[469]|11)-31$', elem)) or (re.search('^\\d\\d\\d\\d-02-(29|3[01])$', elem)): \n",
    "            if (re.search('^\\d\\d\\d\\d-02-29$', elem)):\n",
    "                temp = elem\n",
    "                if ((int(elem[0:4])%4)==0):\n",
    "                    dates.append(elem)\n",
    "        else:\n",
    "            dates.append(elem)\n",
    "        \n",
    "print(dates)"
   ]
  },
  {
   "cell_type": "markdown",
   "metadata": {},
   "source": [
    "Question 6"
   ]
  },
  {
   "cell_type": "code",
   "execution_count": 76,
   "metadata": {},
   "outputs": [
    {
     "name": "stdout",
     "output_type": "stream",
     "text": [
      "[1, 2, 3]\n"
     ]
    }
   ],
   "source": [
    "import numpy as np\n",
    "\n",
    "a = np.array([1,2,2,2,4]) # Type in whatever numpy arrays you want \n",
    "b = np.array([2,2,2,2]) # Type in another numpy arrays\n",
    "\n",
    "l = min(len(a), len(b)) # In case the two arrays do not have the same length\n",
    "\n",
    "check = []\n",
    "for n in range(l):\n",
    "    if a[n] == b[n]:\n",
    "        check.append(n)\n",
    "    else:\n",
    "        continue\n",
    "\n",
    "print(check)"
   ]
  }
 ],
 "metadata": {
  "kernelspec": {
   "display_name": "Python 3",
   "language": "python",
   "name": "python3"
  },
  "language_info": {
   "codemirror_mode": {
    "name": "ipython",
    "version": 3
   },
   "file_extension": ".py",
   "mimetype": "text/x-python",
   "name": "python",
   "nbconvert_exporter": "python",
   "pygments_lexer": "ipython3",
   "version": "3.6.5"
  }
 },
 "nbformat": 4,
 "nbformat_minor": 2
}
